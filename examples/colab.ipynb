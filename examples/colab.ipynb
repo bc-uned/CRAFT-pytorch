{
  "cells": [
    {
      "cell_type": "markdown",
      "id": "a71011e5",
      "metadata": {
        "id": "a71011e5"
      },
      "source": [
        "[![Open In Colab](https://colab.research.google.com/assets/colab-badge.svg)](https://colab.research.google.com/github/bc-uned/CRAFT-pytorch/blob/master/examples/colab.ipynb)"
      ]
    },
    {
      "cell_type": "code",
      "source": [],
      "metadata": {
        "id": "-2eDi6tTnsMm"
      },
      "id": "-2eDi6tTnsMm",
      "execution_count": null,
      "outputs": []
    }
  ],
  "metadata": {
    "language_info": {
      "name": "python"
    },
    "colab": {
      "provenance": []
    }
  },
  "nbformat": 4,
  "nbformat_minor": 5
}