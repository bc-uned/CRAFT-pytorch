{
 "cells": [
  {
   "cell_type": "code",
   "execution_count": null,
   "id": "3e879111",
   "metadata": {},
   "outputs": [],
   "source": [
    "!mkdir utils\n",
    "!wget utils\\imagecleanup.py https://github.com/bc-uned/CRAFT-pytorch/blob/master/utils/ImageCleanup_GROK.py "
   ]
  },
  {
   "cell_type": "code",
   "execution_count": null,
   "id": "fc8deb3b",
   "metadata": {},
   "outputs": [],
   "source": [
    "import sys\n",
    "\n",
    "# Add utils folder to Python import paths\n",
    "if \"utils\" not in sys.path:\n",
    "    sys.path.append(\"utils\")"
   ]
  },
  {
   "cell_type": "code",
   "execution_count": null,
   "id": "a85ca1b8",
   "metadata": {
    "vscode": {
     "languageId": "markdown"
    }
   },
   "outputs": [],
   "source": []
  },
  {
   "cell_type": "code",
   "execution_count": null,
   "id": "30069f11",
   "metadata": {
    "vscode": {
     "languageId": "markdown"
    }
   },
   "outputs": [],
   "source": []
  },
  {
   "cell_type": "code",
   "execution_count": null,
   "id": "859a14b4",
   "metadata": {
    "vscode": {
     "languageId": "markdown"
    }
   },
   "outputs": [],
   "source": []
  },
  {
   "cell_type": "markdown",
   "id": "39664f70",
   "metadata": {},
   "source": []
  },
  {
   "cell_type": "code",
   "execution_count": null,
   "id": "902b64e2",
   "metadata": {
    "vscode": {
     "languageId": "markdown"
    }
   },
   "outputs": [],
   "source": []
  }
 ],
 "metadata": {
  "language_info": {
   "name": "python"
  }
 },
 "nbformat": 4,
 "nbformat_minor": 5
}
